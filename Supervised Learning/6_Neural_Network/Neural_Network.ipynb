{
  "nbformat": 4,
  "nbformat_minor": 0,
  "metadata": {
    "colab": {
      "provenance": []
    },
    "kernelspec": {
      "name": "python3",
      "display_name": "Python 3"
    },
    "language_info": {
      "name": "python"
    }
  },
  "cells": [
    {
      "cell_type": "markdown",
      "source": [
        "# Fashion MNIST Classification with Neural Network\n",
        "\n",
        "##Dataset Overview:\n",
        "- Fashion MNIST is a dataset of 28x28 grayscale images depicting 10 different fashion categories.\n",
        "- Categories include T-shirt/top, Trouser, Pullover, Dress, Coat, Sandal, Shirt, Sneaker, Bag, and Ankle boot.\n",
        "- Each image is labeled with a corresponding class index from 0 to 9.\n",
        "- The dataset is commonly used for benchmarking computer vision algorithms.\n",
        "\n",
        "##Neural Networks Overview:\n",
        "- Neural networks are a class of machine learning models inspired by the structure and function of the human brain.\n",
        "- Composed of layers of interconnected nodes (neurons), neural networks can learn complex patterns and representations from data.\n",
        "- Key components include input layers, hidden layers, and output layers, each containing neurons with associated weights and biases.\n",
        "- Activation functions introduce non-linearity to enable the network to model complex relationships.\n",
        "- Training involves adjusting weights and biases through iterative optimization algorithms to minimize a defined loss function.\n",
        "\n",
        "##Implementation Overview:\n",
        "- The code implements a neural network for Fashion MNIST classification using Python and TensorFlow/Keras.\n",
        "- The dataset is loaded, preprocessed, and split into training and testing sets.\n",
        "- A custom neural network class (`DeepNeuralNet`) is defined, initialized, and trained from scratch, including backpropagation for weight updates.\n",
        "- Alternatively, a simpler model is defined using the Keras Sequential API, compiled, and trained with the TensorFlow backend.\n",
        "- The training process involves optimizing weights to minimize the Mean Squared Error (MSE) loss.\n",
        "- The model is evaluated on the test set, and predictions are made.\n"
      ],
      "metadata": {
        "id": "XLZxe-_v2H8Q"
      }
    },
    {
      "cell_type": "code",
      "source": [
        "# Import packages\n",
        "import numpy as np\n",
        "import matplotlib.pyplot as plt\n",
        "import tensorflow as tf"
      ],
      "metadata": {
        "id": "2g53Jv_he2tt"
      },
      "execution_count": 66,
      "outputs": []
    },
    {
      "cell_type": "code",
      "source": [
        "# Use the keras module to import the necessary data\n",
        "from tensorflow.keras.datasets import fashion_mnist\n",
        "# load data as test/train and image/label sets\n",
        "(X_train, y_train), (X_test, y_test) = fashion_mnist.load_data()"
      ],
      "metadata": {
        "colab": {
          "base_uri": "https://localhost:8080/"
        },
        "id": "3XYe8OXNe44y",
        "outputId": "2d873af9-7330-43c8-969d-dbe7f674a7ac"
      },
      "execution_count": 67,
      "outputs": [
        {
          "output_type": "stream",
          "name": "stdout",
          "text": [
            "Downloading data from https://storage.googleapis.com/tensorflow/tf-keras-datasets/train-labels-idx1-ubyte.gz\n",
            "29515/29515 [==============================] - 0s 0us/step\n",
            "Downloading data from https://storage.googleapis.com/tensorflow/tf-keras-datasets/train-images-idx3-ubyte.gz\n",
            "26421880/26421880 [==============================] - 0s 0us/step\n",
            "Downloading data from https://storage.googleapis.com/tensorflow/tf-keras-datasets/t10k-labels-idx1-ubyte.gz\n",
            "5148/5148 [==============================] - 0s 0us/step\n",
            "Downloading data from https://storage.googleapis.com/tensorflow/tf-keras-datasets/t10k-images-idx3-ubyte.gz\n",
            "4422102/4422102 [==============================] - 0s 0us/step\n"
          ]
        }
      ]
    },
    {
      "cell_type": "code",
      "source": [
        "#print some data stats\n",
        "print('Training set shape:', X_train.shape)\n",
        "print('Test set shape:', X_test.shape)\n",
        "print('Number of classes:', len(np.unique(y_train)))"
      ],
      "metadata": {
        "colab": {
          "base_uri": "https://localhost:8080/"
        },
        "id": "N8nlFirte6hr",
        "outputId": "11635f38-280d-4407-ee3d-fa482de6921c"
      },
      "execution_count": 68,
      "outputs": [
        {
          "output_type": "stream",
          "name": "stdout",
          "text": [
            "Training set shape: (60000, 28, 28)\n",
            "Test set shape: (10000, 28, 28)\n",
            "Number of classes: 10\n"
          ]
        }
      ]
    },
    {
      "cell_type": "markdown",
      "source": [
        "##Flattening:\n",
        "\n",
        "Flattening refers to the process of converting multi-dimensional data (like images) into a one-dimensional array. In this context, each image is flattened into a 1D column vector.\n",
        "\n",
        "Purpose: Many machine learning algorithms, especially neural networks, require input data to be in a flat format. Flattening is often a preprocessing step before feeding the data into a model.\n",
        "\n",
        "##One-Hot Encoding:\n",
        "\n",
        "One-hot encoding is a technique used to represent categorical variables as binary vectors. In the context of neural networks and classification problems, it is commonly used to represent class labels.\n",
        "\n",
        "Purpose: Neural networks typically output probability distributions over classes. One-hot encoding is used to represent the true class of each sample by setting the corresponding element in the vector to 1, while all other elements are set to 0. This helps in training and evaluating classification models."
      ],
      "metadata": {
        "id": "PO-kk0-mlkHb"
      }
    },
    {
      "cell_type": "code",
      "source": [
        "# Flatten the training images (1D coloumn vectors).\n",
        "flat_train_X = []\n",
        "# One hot encode the training labels\n",
        "onehot_train_y = []\n",
        "for x, y in zip(X_train, y_train):\n",
        "    flat_train_X.append(x.flatten().reshape(784, 1))\n",
        "    temp_vec = np.zeros((10, 1))\n",
        "    temp_vec[y][0] = 1.0\n",
        "    onehot_train_y.append(temp_vec)\n",
        "\n",
        "# Flatten the testing images (1D coloumn vectors).\n",
        "flat_test_X = []\n",
        "# One hot encode the testing labels\n",
        "onehot_test_y = []\n",
        "\n",
        "for x, y in zip(X_test, y_test):\n",
        "    flat_test_X.append(x.flatten().reshape(784, 1))\n",
        "    temp_vec = np.zeros((10, 1))\n",
        "    temp_vec[y] = 1.0\n",
        "    onehot_test_y.append(temp_vec)"
      ],
      "metadata": {
        "id": "lOZ0GdeIe9GF"
      },
      "execution_count": 70,
      "outputs": []
    },
    {
      "cell_type": "markdown",
      "source": [
        "Model Building"
      ],
      "metadata": {
        "id": "RpkXj3eYmdWf"
      }
    },
    {
      "cell_type": "markdown",
      "source": [
        "The DeepNeuralNet class given below is an implementation of a neural network tailored for multi-class classification using deep learning. It allows flexibility in the number of layers and neurons per layer and employs a sigmoid activation function. The class includes methods for initializing weights and biases, calculating the sigmoid function and its derivative, determining mean squared error, performing forward passes, training with stochastic gradient descent, and making predictions. The training process incorporates backpropagation to adjust weights and biases. Overall, this class serves as a customizable tool for building and training neural networks for classification tasks."
      ],
      "metadata": {
        "id": "fRRX5KOvmTa-"
      }
    },
    {
      "cell_type": "code",
      "source": [
        "class DeepNeuralNet():\n",
        "    \"\"\"\n",
        "    A neural network class for multi-class classification using deep learning.\n",
        "\n",
        "    Attributes:\n",
        "    -----------\n",
        "    layers : list\n",
        "        A list containing the number of neurons in each layer, including the input and output layers.\n",
        "    W : list\n",
        "        A list of weight matrices for each layer in the network.\n",
        "    B : list\n",
        "        A list of bias vectors for each layer in the network.\n",
        "    errors_ : list\n",
        "        A list of errors that occur during training.\n",
        "\n",
        "    Methods:\n",
        "    --------\n",
        "    initialize_weights():\n",
        "        Initializes the weights and biases for the neural network.\n",
        "\n",
        "    sigmoid(z):\n",
        "        Calculates the sigmoid function value of the input.\n",
        "\n",
        "    d_sigmoid(z):\n",
        "        Calculates the derivative of the sigmoid function with respect to the input.\n",
        "\n",
        "    mse(a, y):\n",
        "        Calculates the mean squared error between the predicted and actual outputs.\n",
        "\n",
        "    MSE(W, B, X, y):\n",
        "        Calculates the mean squared error for a set of input data and corresponding targets.\n",
        "\n",
        "    forward_pass(W, B, xi, predict_vector=False):\n",
        "        Calculates the preactivation and postactivation values for each layer in the network.\n",
        "\n",
        "    train(X_train, y_train, alpha=0.1, epochs=2):\n",
        "        Trains the neural network on a set of input data and corresponding targets.\n",
        "\n",
        "    predict(xi):\n",
        "        Predicts the class of a given input vector.\n",
        "    \"\"\"\n",
        "    def __init__(self, layers = [784, 60, 60, 10]):\n",
        "        \"\"\"\n",
        "        Initializes a DeepNeuralNet instance.\n",
        "\n",
        "        Parameters:\n",
        "        -----------\n",
        "        layers : list\n",
        "            A list containing the number of neurons in each layer, including the input, hidden, and output layers.\n",
        "        \"\"\"\n",
        "        self.layers = layers\n",
        "        self.W, self.B = self.initialize_weights()\n",
        "\n",
        "    def initialize_weights(self):\n",
        "        \"\"\"\n",
        "        Initializes the weights and biases for the neural network.\n",
        "\n",
        "        Returns:\n",
        "        W: List of weight matrices for each layer in the network.\n",
        "        B: List of bias vectors for each layer in the network.\n",
        "        \"\"\"\n",
        "        # Initialize the weight and bias matrices for the input layer\n",
        "        W = [[0.0]]\n",
        "        B = [[0.0]]\n",
        "        for i in range(1, len(self.layers)):\n",
        "            # Initialize the weight matrix for the current layer using random values\n",
        "            # multiplied by a scaling factor based on the size of the previous layer\n",
        "            w_temp = np.random.randn(self.layers[i], self.layers[i-1])*np.sqrt(2/self.layers[i-1])\n",
        "            # Initialize the bias vector for the current layer using random values\n",
        "            # multiplied by a scaling factor based on the size of the previous layer\n",
        "            b_temp = np.random.randn(self.layers[i], 1)*np.sqrt(2/self.layers[i-1])\n",
        "            W.append(w_temp)\n",
        "            B.append(b_temp)\n",
        "        return W, B\n",
        "\n",
        "    def sigmoid(self, z):\n",
        "        \"\"\"\n",
        "        Calculates the sigmoid function value of the input.\n",
        "\n",
        "        Parameters:\n",
        "        -----------\n",
        "        z : float\n",
        "            The input value.\n",
        "\n",
        "        Returns:\n",
        "        --------\n",
        "        The sigmoid function value of the input.\n",
        "        \"\"\"\n",
        "        return 1.0/(1.0+np.exp(-z))\n",
        "\n",
        "    def d_sigmoid(self, z):\n",
        "        \"\"\"\n",
        "        Calculates the derivative of the sigmoid function with respect to the input.\n",
        "\n",
        "        Parameters:\n",
        "        -----------\n",
        "        z : float\n",
        "            The input value.\n",
        "\n",
        "        Returns:\n",
        "        --------\n",
        "        The derivative of the sigmoid function with respect to the input.\n",
        "        \"\"\"\n",
        "        return self.sigmoid(z)*(1.0 - self.sigmoid(z))\n",
        "\n",
        "    def mse(self, a, y):\n",
        "        \"\"\"\n",
        "        Computes the mean squared error of the predicted output a and the actual output y.\n",
        "\n",
        "        Parameters:\n",
        "        a: The predicted output.\n",
        "        y: The actual output.\n",
        "\n",
        "        Returns:\n",
        "        The mean squared error between a and y.\n",
        "        \"\"\"\n",
        "        return .5*sum((a[i] - y[i])**2 for i in range(10))[0]\n",
        "\n",
        "    def MSE(self, W, B, X, y):\n",
        "        \"\"\"\n",
        "        Computes the mean squared error for a given set of parameters and inputs.\n",
        "\n",
        "        Parameters:\n",
        "        W (list of numpy arrays): The weight matrices.\n",
        "        B (list of numpy arrays): The bias vectors.\n",
        "        X (numpy array): The input data.\n",
        "        y (numpy array): The output data.\n",
        "\n",
        "        Returns:\n",
        "        The mean squared error for the given set of parameters and inputs.\n",
        "        \"\"\"\n",
        "        cost = 0.0\n",
        "        m = 0\n",
        "        for xi, yi in zip(X, y):\n",
        "            a = self.forward_pass(W, B, xi, predict_vector = True)\n",
        "            cost += self.mse(a, yi)\n",
        "            m+=1\n",
        "        return cost/m\n",
        "\n",
        "    def forward_pass(self, W, B, xi, predict_vector = False):\n",
        "        \"\"\"\n",
        "        Computes the preactivation and postactivation values of each layer in the neural network for a given input.\n",
        "\n",
        "        Parameters:\n",
        "        W (list of numpy arrays): The weight matrices.\n",
        "        B (list of numpy arrays): The bias vectors.\n",
        "        xi (numpy array): The input to the neural network.\n",
        "        predict_vector (bool): Whether to return only the output of the last layer or the preactivation and postactivation values of all layers.\n",
        "\n",
        "        Returns:\n",
        "        If predict_vector is False, returns a tuple (Z, A) where Z is a list of preactivation values and A is a list of postactivation values.\n",
        "        If predict_vector is True, returns only the output of the last layer.\n",
        "        \"\"\"\n",
        "        Z = [[0.0]]\n",
        "        A = [xi]\n",
        "        L = len(W) - 1\n",
        "        for i in range(1, L + 1):\n",
        "            z = W[i] @ A[i-1] + B[i]\n",
        "            Z.append(z)\n",
        "\n",
        "            a = self.sigmoid(z)\n",
        "            A.append(a)\n",
        "\n",
        "        if predict_vector == False:\n",
        "            return Z, A\n",
        "        else:\n",
        "            return A[-1]\n",
        "\n",
        "    def train(self, X_train, y_train, alpha = 0.1, epochs = 2):\n",
        "        \"\"\"Train the neural network on the input data.\n",
        "\n",
        "        Parameters:\n",
        "            X_train (numpy.ndarray): The input data.\n",
        "            y_train (numpy.ndarray): The target output data.\n",
        "            alpha (float, optional): Learning rate. Defaults to 0.1.\n",
        "            epochs (int, optional): The number of epochs to train for. Defaults to 2.\n",
        "\n",
        "        Returns:\n",
        "            None\n",
        "        \"\"\"\n",
        "        # Print the initial mean squared error\n",
        "        self.errors_ = [self.MSE(self.W, self.B, X_train, y_train)]\n",
        "        print(f\"Starting Cost (MSE) = {self.errors_[0]}\")\n",
        "\n",
        "        # Find sample size\n",
        "        sample_size = len(X_train)\n",
        "\n",
        "        # Find the number of non-input layers.\n",
        "        L = len(self.layers) - 1\n",
        "\n",
        "        # Perform stochastic gradient descent for each epoch\n",
        "        for k in range(epochs):\n",
        "            # Loop over each (xi, yi) training pair of data.\n",
        "            for xi, yi in zip(X_train, y_train):\n",
        "                # Use the forward pass function defined before\n",
        "                # and find the preactivation and postactivation values.\n",
        "                Z, A = self.forward_pass(self.W, self.B, xi)\n",
        "                # Store the errors in a dictionary for clear interpretation\n",
        "                # of computation of these values.\n",
        "                deltas = dict()\n",
        "\n",
        "                # Compute the output error\n",
        "                output_error = (A[L] - yi)*self.d_sigmoid(Z[L])\n",
        "                deltas[L] = output_error\n",
        "                # Loop from L-1 to 1. Recall the right entry of the range function\n",
        "                # is non-inclusive.\n",
        "                for i in range(L-1, 0, -1):\n",
        "                    # Compute the node errors at each hidden layer\n",
        "                    deltas[i] = (self.W[i+1].T @ deltas[i+1])*self.d_sigmoid(Z[i])\n",
        "                # Loop over each hidden layer and the output layer to perform gradient\n",
        "                # descent.\n",
        "                for i in range(1, L+1):\n",
        "                    self.W[i] -= alpha*deltas[i] @ A[i-1].T\n",
        "                    self.B[i] -= alpha*deltas[i]\n",
        "\n",
        "            # Print: Training cost after an Epoch\n",
        "            self.errors_.append(self.MSE(self.W, self.B, X_train, y_train))\n",
        "            print(f\"Cost (MSE) after Epoch {k + 1}: = {self.errors_[-1]}\")\n",
        "\n",
        "\n",
        "    def predict(self, xi):\n",
        "        \"\"\"\n",
        "        Predict the class label for a single input vector.\n",
        "\n",
        "        Parameters:\n",
        "        -----------\n",
        "        xi : array-like, shape (n_features,)\n",
        "            Input vector for which the class label needs to be predicted.\n",
        "\n",
        "        Returns:\n",
        "        --------\n",
        "        int\n",
        "            Predicted class label for the given input vector.\n",
        "        \"\"\"\n",
        "        depth = len(self.layers)\n",
        "        _, A = self.forward_pass(self.W, self.B, xi)\n",
        "        return np.argmax(A[-1])"
      ],
      "metadata": {
        "id": "d5hnGn6E0x98"
      },
      "execution_count": null,
      "outputs": []
    },
    {
      "cell_type": "markdown",
      "source": [
        "Model Evaluation"
      ],
      "metadata": {
        "id": "6m8F3zZpmhFD"
      }
    },
    {
      "cell_type": "code",
      "source": [
        "# Initialize a deep neural network with following architecture:\n",
        "## Input Nodes: 784 (28x28)\n",
        "## Three hidden layers: 240, 120, 60 nodes respectively\n",
        "## Output Nodes: 10 (10 class classification problem - Fashion MNIST)\n",
        "DNN = DeepNeuralNet(layers = [784, 240, 120, 60, 10])\n",
        "\n",
        "# Train the network with stochastic gradient descent\n",
        "DNN.train(flat_train_X, onehot_train_y, alpha = 0.1, epochs = 12)"
      ],
      "metadata": {
        "colab": {
          "base_uri": "https://localhost:8080/"
        },
        "id": "78G6odcmfP1a",
        "outputId": "af2a7637-bb47-4877-eea5-39127e3faf3b"
      },
      "execution_count": 72,
      "outputs": [
        {
          "output_type": "stream",
          "name": "stderr",
          "text": [
            "<ipython-input-71-078b1a4c69d5>:89: RuntimeWarning: overflow encountered in exp\n",
            "  return 1.0/(1.0+np.exp(-z))\n"
          ]
        },
        {
          "output_type": "stream",
          "name": "stdout",
          "text": [
            "Starting Cost (MSE) = 1.2221941252189572\n",
            "Cost (MSE) after Epoch 1: = 0.39825378422311847\n",
            "Cost (MSE) after Epoch 2: = 0.4479028473149069\n",
            "Cost (MSE) after Epoch 3: = 0.40963894693390007\n",
            "Cost (MSE) after Epoch 4: = 0.40525479795126107\n",
            "Cost (MSE) after Epoch 5: = 0.4049419225255084\n",
            "Cost (MSE) after Epoch 6: = 0.4041756078428536\n",
            "Cost (MSE) after Epoch 7: = 0.42399707909851886\n",
            "Cost (MSE) after Epoch 8: = 0.4083403020504808\n",
            "Cost (MSE) after Epoch 9: = 0.41716904648886916\n",
            "Cost (MSE) after Epoch 10: = 0.4080769241310914\n",
            "Cost (MSE) after Epoch 11: = 0.41458115832410075\n",
            "Cost (MSE) after Epoch 12: = 0.4089331022917117\n"
          ]
        }
      ]
    },
    {
      "cell_type": "code",
      "source": [
        "# Visualize the mean squared error over the training process\n",
        "plt.figure(figsize = (6, 4))\n",
        "Epochs = range(len(DNN.errors_))\n",
        "plt.plot(Epochs, DNN.errors_, marker = \"o\")\n",
        "plt.xticks(Epochs)\n",
        "plt.xlabel(\"Epochs\")\n",
        "plt.ylabel(\"Mean Squared Error\")\n",
        "plt.title(\"Network MSE During Training\")\n",
        "plt.show()"
      ],
      "metadata": {
        "colab": {
          "base_uri": "https://localhost:8080/",
          "height": 410
        },
        "id": "QnX_IArdfRep",
        "outputId": "42fc7505-3778-4318-8101-586fdac75cd8"
      },
      "execution_count": 73,
      "outputs": [
        {
          "output_type": "display_data",
          "data": {
            "text/plain": [
              "<Figure size 600x400 with 1 Axes>"
            ],
            "image/png": "[encoded data removed]"
          },
          "metadata": {}
        }
      ]
    },
    {
      "cell_type": "markdown",
      "source": [
        "Model Evaluation"
      ],
      "metadata": {
        "id": "PjXm4zpkmjr2"
      }
    },
    {
      "cell_type": "code",
      "source": [
        "lr_values = [0.001, 0.01, 0.1, 1]  # different values of learning rate to try\n",
        "accuracy_values = []  # to store the accuracy for each learning rate value\n",
        "# loop over each learning_rate value\n",
        "for alpha in lr_values:\n",
        "    DNN2 = DeepNeuralNet(layers = [784, 240, 120, 60, 10])\n",
        "    print(\"Learning Rate:\", alpha)\n",
        "    DNN2.train(flat_train_X, onehot_train_y, alpha=alpha, epochs=2)\n",
        "    accuracy = sum([int(DNN2.predict(x) == y) for x, y in zip(flat_test_X, y_test)])/len(onehot_test_y)\n",
        "    accuracy_values.append(accuracy)"
      ],
      "metadata": {
        "colab": {
          "base_uri": "https://localhost:8080/"
        },
        "id": "zCSpnKZzfWh5",
        "outputId": "2501635a-c8c1-4274-e94a-2f2af002aa6b"
      },
      "execution_count": 75,
      "outputs": [
        {
          "output_type": "stream",
          "name": "stdout",
          "text": [
            "Learning Rate: 0.001\n"
          ]
        },
        {
          "output_type": "stream",
          "name": "stderr",
          "text": [
            "<ipython-input-71-078b1a4c69d5>:89: RuntimeWarning: overflow encountered in exp\n",
            "  return 1.0/(1.0+np.exp(-z))\n"
          ]
        },
        {
          "output_type": "stream",
          "name": "stdout",
          "text": [
            "Starting Cost (MSE) = 1.3655815707094558\n",
            "Cost (MSE) after Epoch 1: = 0.4131164634053568\n",
            "Cost (MSE) after Epoch 2: = 0.33652874955620654\n",
            "Learning Rate: 0.01\n",
            "Starting Cost (MSE) = 1.3679406139793462\n",
            "Cost (MSE) after Epoch 1: = 0.26888107809157624\n",
            "Cost (MSE) after Epoch 2: = 0.3425666397858824\n",
            "Learning Rate: 0.1\n",
            "Starting Cost (MSE) = 1.695904297296751\n",
            "Cost (MSE) after Epoch 1: = 0.39471584448097036\n",
            "Cost (MSE) after Epoch 2: = 0.44940651238419455\n",
            "Learning Rate: 1\n",
            "Starting Cost (MSE) = 1.0045966839651725\n",
            "Cost (MSE) after Epoch 1: = 0.4506873394340092\n",
            "Cost (MSE) after Epoch 2: = 0.45133280349240057\n"
          ]
        }
      ]
    },
    {
      "cell_type": "markdown",
      "source": [
        "# Neural Network Implementation using TensorFlow"
      ],
      "metadata": {
        "id": "2um3sf3jmmP5"
      }
    },
    {
      "cell_type": "code",
      "source": [
        "#Import relevant packages\n",
        "import numpy as np\n",
        "import matplotlib.pyplot as plt\n",
        "from tensorflow import keras\n",
        "from keras.models import Sequential\n",
        "from keras.layers import Dense, Flatten\n",
        "import math"
      ],
      "metadata": {
        "id": "xZc-G-ZTkPAD"
      },
      "execution_count": 76,
      "outputs": []
    },
    {
      "cell_type": "code",
      "source": [
        "# Load the dataset\n",
        "from tensorflow.keras.datasets import fashion_mnist\n",
        "# load data as test/train and image/label sets\n",
        "(x_train, y_train), (x_test, y_test) = fashion_mnist.load_data()"
      ],
      "metadata": {
        "id": "UJWzZHRXkQvw"
      },
      "execution_count": 77,
      "outputs": []
    },
    {
      "cell_type": "code",
      "source": [
        "# Define class names for the Fashion MNIST dataset\n",
        "class_names = ['T-shirt/top', 'Trouser', 'Pullover', 'Dress', 'Coat',\n",
        "               'Sandal', 'Shirt', 'Sneaker', 'Bag', 'Ankle boot']\n",
        "\n",
        "# Scale pixel values to between 0 and 1\n",
        "x_train = x_train.astype('float32') / 255\n",
        "x_test = x_test.astype('float32') / 255\n",
        "\n",
        "# One-hot encode the labels using keras\n",
        "num_classes = 10\n",
        "y_train = keras.utils.to_categorical(y_train, num_classes)\n",
        "y_test = keras.utils.to_categorical(y_test, num_classes)"
      ],
      "metadata": {
        "id": "iiqGZyimkTPq"
      },
      "execution_count": 78,
      "outputs": []
    },
    {
      "cell_type": "code",
      "source": [
        "# Define the model architecture\n",
        "model = Sequential()\n",
        "model.add(Flatten(input_shape=(28, 28)))\n",
        "model.add(Dense(128, activation='relu'))\n",
        "model.add(Dense(64, activation='relu'))\n",
        "model.add(Dense(num_classes, activation='softmax'))\n",
        "model.summary()"
      ],
      "metadata": {
        "colab": {
          "base_uri": "https://localhost:8080/"
        },
        "id": "n5BcmQQekW_7",
        "outputId": "b1f11ee1-3578-49a7-8fe6-7afc1f2c6411"
      },
      "execution_count": 79,
      "outputs": [
        {
          "output_type": "stream",
          "name": "stdout",
          "text": [
            "Model: \"sequential\"\n",
            "_________________________________________________________________\n",
            " Layer (type)                Output Shape              Param #   \n",
            "=================================================================\n",
            " flatten (Flatten)           (None, 784)               0         \n",
            "                                                                 \n",
            " dense (Dense)               (None, 128)               100480    \n",
            "                                                                 \n",
            " dense_1 (Dense)             (None, 64)                8256      \n",
            "                                                                 \n",
            " dense_2 (Dense)             (None, 10)                650       \n",
            "                                                                 \n",
            "=================================================================\n",
            "Total params: 109386 (427.29 KB)\n",
            "Trainable params: 109386 (427.29 KB)\n",
            "Non-trainable params: 0 (0.00 Byte)\n",
            "_________________________________________________________________\n"
          ]
        }
      ]
    },
    {
      "cell_type": "code",
      "source": [
        "# Compile the model\n",
        "model.compile(loss='mse', optimizer=keras.optimizers.Adam(learning_rate=0.0001), metrics=['accuracy'])\n",
        "\n",
        "# Train the model\n",
        "history = model.fit(x_train, y_train, epochs=25, batch_size=32, validation_split=0.2)"
      ],
      "metadata": {
        "colab": {
          "base_uri": "https://localhost:8080/"
        },
        "id": "TWP4G8u2kZZM",
        "outputId": "8c73d077-6d2e-4a3d-86d2-ace6246882a1"
      },
      "execution_count": 80,
      "outputs": [
        {
          "output_type": "stream",
          "name": "stdout",
          "text": [
            "Epoch 1/25\n",
            "1500/1500 [==============================] - 11s 6ms/step - loss: 0.0347 - accuracy: 0.7663 - val_loss: 0.0254 - val_accuracy: 0.8267\n",
            "Epoch 2/25\n",
            "1500/1500 [==============================] - 9s 6ms/step - loss: 0.0237 - accuracy: 0.8410 - val_loss: 0.0227 - val_accuracy: 0.8448\n",
            "Epoch 3/25\n",
            "1500/1500 [==============================] - 10s 7ms/step - loss: 0.0216 - accuracy: 0.8544 - val_loss: 0.0215 - val_accuracy: 0.8559\n",
            "Epoch 4/25\n",
            "1500/1500 [==============================] - 8s 5ms/step - loss: 0.0203 - accuracy: 0.8636 - val_loss: 0.0211 - val_accuracy: 0.8592\n",
            "Epoch 5/25\n",
            "1500/1500 [==============================] - 10s 7ms/step - loss: 0.0193 - accuracy: 0.8702 - val_loss: 0.0204 - val_accuracy: 0.8608\n",
            "Epoch 6/25\n",
            "1500/1500 [==============================] - 7s 5ms/step - loss: 0.0187 - accuracy: 0.8748 - val_loss: 0.0197 - val_accuracy: 0.8673\n",
            "Epoch 7/25\n",
            "1500/1500 [==============================] - 10s 7ms/step - loss: 0.0180 - accuracy: 0.8803 - val_loss: 0.0192 - val_accuracy: 0.8696\n",
            "Epoch 8/25\n",
            "1500/1500 [==============================] - 8s 5ms/step - loss: 0.0175 - accuracy: 0.8820 - val_loss: 0.0191 - val_accuracy: 0.8693\n",
            "Epoch 9/25\n",
            "1500/1500 [==============================] - 10s 6ms/step - loss: 0.0171 - accuracy: 0.8861 - val_loss: 0.0185 - val_accuracy: 0.8733\n",
            "Epoch 10/25\n",
            "1500/1500 [==============================] - 8s 5ms/step - loss: 0.0167 - accuracy: 0.8889 - val_loss: 0.0183 - val_accuracy: 0.8768\n",
            "Epoch 11/25\n",
            "1500/1500 [==============================] - 10s 7ms/step - loss: 0.0163 - accuracy: 0.8917 - val_loss: 0.0178 - val_accuracy: 0.8783\n",
            "Epoch 12/25\n",
            "1500/1500 [==============================] - 8s 5ms/step - loss: 0.0159 - accuracy: 0.8945 - val_loss: 0.0177 - val_accuracy: 0.8802\n",
            "Epoch 13/25\n",
            "1500/1500 [==============================] - 10s 7ms/step - loss: 0.0157 - accuracy: 0.8949 - val_loss: 0.0176 - val_accuracy: 0.8821\n",
            "Epoch 14/25\n",
            "1500/1500 [==============================] - 8s 5ms/step - loss: 0.0154 - accuracy: 0.8974 - val_loss: 0.0172 - val_accuracy: 0.8814\n",
            "Epoch 15/25\n",
            "1500/1500 [==============================] - 10s 7ms/step - loss: 0.0151 - accuracy: 0.8989 - val_loss: 0.0172 - val_accuracy: 0.8833\n",
            "Epoch 16/25\n",
            "1500/1500 [==============================] - 8s 5ms/step - loss: 0.0148 - accuracy: 0.9026 - val_loss: 0.0173 - val_accuracy: 0.8817\n",
            "Epoch 17/25\n",
            "1500/1500 [==============================] - 10s 7ms/step - loss: 0.0146 - accuracy: 0.9039 - val_loss: 0.0173 - val_accuracy: 0.8820\n",
            "Epoch 18/25\n",
            "1500/1500 [==============================] - 8s 5ms/step - loss: 0.0144 - accuracy: 0.9043 - val_loss: 0.0172 - val_accuracy: 0.8814\n",
            "Epoch 19/25\n",
            "1500/1500 [==============================] - 10s 7ms/step - loss: 0.0140 - accuracy: 0.9076 - val_loss: 0.0168 - val_accuracy: 0.8844\n",
            "Epoch 20/25\n",
            "1500/1500 [==============================] - 8s 5ms/step - loss: 0.0139 - accuracy: 0.9076 - val_loss: 0.0170 - val_accuracy: 0.8837\n",
            "Epoch 21/25\n",
            "1500/1500 [==============================] - 10s 7ms/step - loss: 0.0137 - accuracy: 0.9107 - val_loss: 0.0174 - val_accuracy: 0.8813\n",
            "Epoch 22/25\n",
            "1500/1500 [==============================] - 7s 5ms/step - loss: 0.0135 - accuracy: 0.9116 - val_loss: 0.0167 - val_accuracy: 0.8882\n",
            "Epoch 23/25\n",
            "1500/1500 [==============================] - 10s 7ms/step - loss: 0.0133 - accuracy: 0.9131 - val_loss: 0.0165 - val_accuracy: 0.8867\n",
            "Epoch 24/25\n",
            "1500/1500 [==============================] - 7s 5ms/step - loss: 0.0131 - accuracy: 0.9134 - val_loss: 0.0162 - val_accuracy: 0.8891\n",
            "Epoch 25/25\n",
            "1500/1500 [==============================] - 10s 7ms/step - loss: 0.0129 - accuracy: 0.9162 - val_loss: 0.0166 - val_accuracy: 0.8858\n"
          ]
        }
      ]
    },
    {
      "cell_type": "code",
      "source": [
        "# Plot the training and validation loss over epochs\n",
        "plt.plot(history.history['loss'], label='Training loss')\n",
        "plt.plot(history.history['val_loss'], label='Validation loss')\n",
        "plt.xlabel('Epoch')\n",
        "plt.ylabel('Mean Square Error')\n",
        "plt.legend()\n",
        "plt.show()"
      ],
      "metadata": {
        "colab": {
          "base_uri": "https://localhost:8080/",
          "height": 449
        },
        "id": "ijcqVm0Okbt0",
        "outputId": "032ec720-c2fb-42b7-ab34-96af6581ca49"
      },
      "execution_count": 81,
      "outputs": [
        {
          "output_type": "display_data",
          "data": {
            "text/plain": [
              "<Figure size 640x480 with 1 Axes>"
            ],
            "image/png": "[encoded data removed]"
          },
          "metadata": {}
        }
      ]
    },
    {
      "cell_type": "code",
      "source": [
        "# Evaluate the model on the test set\n",
        "test_loss, test_acc = model.evaluate(x_test, y_test)\n",
        "print('Test accuracy:', test_acc)\n",
        "\n",
        "# Make predictions on the test set\n",
        "y_pred = model.predict(x_test)\n",
        "\n",
        "# Convert the predicted one-hot vectors to labels\n",
        "y_pred_labels = np.argmax(y_pred, axis=1)"
      ],
      "metadata": {
        "colab": {
          "base_uri": "https://localhost:8080/"
        },
        "id": "5C82AAZ_kdYq",
        "outputId": "8b1df8cb-cf97-49fa-c107-7ff700e7921a"
      },
      "execution_count": 82,
      "outputs": [
        {
          "output_type": "stream",
          "name": "stdout",
          "text": [
            "313/313 [==============================] - 1s 3ms/step - loss: 0.0180 - accuracy: 0.8770\n",
            "Test accuracy: 0.8769999742507935\n",
            "313/313 [==============================] - 1s 2ms/step\n"
          ]
        }
      ]
    },
    {
      "cell_type": "markdown",
      "source": [
        "The final evaluation results indicate that the trained neural network achieved a test accuracy of approximately 87.7%. This means that the model, after being trained on the Fashion MNIST dataset, correctly classified around 87.7% of the images in the test set.\n"
      ],
      "metadata": {
        "id": "9I-CvvfU2kqU"
      }
    },
    {
      "cell_type": "markdown",
      "source": [
        "#Conclusion\n",
        "\n",
        "\n",
        "In conclusion, the implemented neural network demonstrated reasonable performance on the task of Fashion MNIST classification. It successfully learned to recognize patterns and features in the images, and the achieved accuracy provides a quantitative measure of its effectiveness. Further tuning, experimentation with different architectures, or optimization strategies could potentially enhance performance."
      ],
      "metadata": {
        "id": "Krrq8Ivy2ohP"
      }
    }
  ]
}