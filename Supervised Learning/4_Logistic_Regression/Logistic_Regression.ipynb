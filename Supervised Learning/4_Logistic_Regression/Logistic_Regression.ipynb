{
  "nbformat": 4,
  "nbformat_minor": 0,
  "metadata": {
    "colab": {
      "provenance": []
    },
    "kernelspec": {
      "name": "python3",
      "display_name": "Python 3"
    },
    "language_info": {
      "name": "python"
    }
  },
  "cells": [
    {
      "cell_type": "markdown",
      "source": [
        "# Logistic Regression for Breast Cancer Classification\n",
        "\n",
        "This script implements logistic regression to classify breast cancer data into malignant and benign tumors.\n",
        "\n",
        "## Dataset:\n",
        "- The breast cancer dataset is loaded from sklearn.datasets.\n",
        "- The dataset consists of features like mean radius, mean texture, mean smoothness, etc.\n",
        "\n",
        "## Model:\n",
        "- Logistic regression model is implemented with a sigmoid activation function.\n",
        "- The model is trained using gradient descent to optimize weights and bias.\n",
        "\n",
        "## Evaluation:\n",
        "- Model evaluation includes accuracy, precision, recall, and F1 score.\n",
        "- Visualization of confusion matrix.\n"
      ],
      "metadata": {
        "id": "U4fTQcvlPEnY"
      }
    },
    {
      "cell_type": "code",
      "execution_count": 65,
      "metadata": {
        "id": "dRQwa0EVH6Ay"
      },
      "outputs": [],
      "source": [
        "# Importing necessary libraries\n",
        "import numpy as np\n",
        "import matplotlib.pyplot as plt\n",
        "import seaborn as sns\n",
        "import pandas as pd\n",
        "from sklearn.model_selection import train_test_split\n",
        "from sklearn.preprocessing import StandardScaler\n",
        "from sklearn.datasets import load_breast_cancer\n",
        "from sklearn import metrics\n",
        "from sklearn.metrics import precision_score, recall_score, f1_score, accuracy_score"
      ]
    },
    {
      "cell_type": "code",
      "source": [
        "# Load breast cancer dataset\n",
        "data = load_breast_cancer()"
      ],
      "metadata": {
        "id": "2_JMZ4dTIWv-"
      },
      "execution_count": 66,
      "outputs": []
    },
    {
      "cell_type": "code",
      "source": [
        "# Split target and features\n",
        "X = data.data\n",
        "y = data.target"
      ],
      "metadata": {
        "id": "CllbKl_bIszK"
      },
      "execution_count": 67,
      "outputs": []
    },
    {
      "cell_type": "code",
      "source": [
        "# Normalize the features\n",
        "X = (X - X.mean(axis=0)) / X.std(axis=0)"
      ],
      "metadata": {
        "id": "kbKWymJRItrs"
      },
      "execution_count": 68,
      "outputs": []
    },
    {
      "cell_type": "code",
      "source": [
        "#Splitting the data into train and test set\n",
        "X_train, X_test, y_train, y_test = train_test_split(X, y, test_size=0.2, random_state=42)"
      ],
      "metadata": {
        "id": "EhEbYbUJI1f1"
      },
      "execution_count": 69,
      "outputs": []
    },
    {
      "cell_type": "markdown",
      "source": [
        "Model Building"
      ],
      "metadata": {
        "id": "umLy5gDMPdR1"
      }
    },
    {
      "cell_type": "code",
      "source": [
        "#Logistic Regression Implementation\n",
        "\n",
        "class LogisticRegression:\n",
        "    \"\"\"\n",
        "    Logistic regression implementation using gradient descent.\n",
        "\n",
        "    Parameters:\n",
        "    -----------\n",
        "    learning_rate : float, default=0.01\n",
        "        The learning rate used to update weights and bias during optimization.\n",
        "\n",
        "    num_iterations : int, default=1000\n",
        "        The number of iterations for optimization.\n",
        "\n",
        "    Attributes:\n",
        "    -----------\n",
        "    weights : array-like, shape (n_features,)\n",
        "        The learned weights of the logistic regression model.\n",
        "\n",
        "    bias : float\n",
        "        The learned bias term of the logistic regression model.\n",
        "\n",
        "    losses : list\n",
        "        The training loss for each iteration during optimization.\n",
        "\n",
        "    Methods:\n",
        "    --------\n",
        "    sigmoid(self, z):\n",
        "        Compute sigmoid of input array.\n",
        "\n",
        "    fit(self, X, y):\n",
        "        Fit logistic regression model on training data.\n",
        "\n",
        "    predict(self, X):\n",
        "        Predict the class labels for the input data.\n",
        "    \"\"\"\n",
        "\n",
        "    def __init__(self, learning_rate=0.01, num_iterations=1000):\n",
        "        \"\"\"\n",
        "        Initialize logistic regression model.\n",
        "\n",
        "        Parameters:\n",
        "        -----------\n",
        "        learning_rate : float, default=0.01\n",
        "            The learning rate used to update weights and bias during optimization.\n",
        "\n",
        "        num_iterations : int, default=1000\n",
        "            The number of iterations for optimization.\n",
        "        \"\"\"\n",
        "        self.learning_rate = learning_rate\n",
        "        self.num_iterations = num_iterations\n",
        "        self.weights = None\n",
        "        self.bias = None\n",
        "\n",
        "    def sigmoid(self, z):\n",
        "        \"\"\"\n",
        "        Compute sigmoid of input array.\n",
        "\n",
        "        Parameters:\n",
        "        -----------\n",
        "        z : array-like, shape (n_samples,)\n",
        "            Input array.\n",
        "\n",
        "        Returns:\n",
        "        --------\n",
        "        sigmoid : array-like, shape (n_samples,)\n",
        "            Sigmoid of input array.\n",
        "        \"\"\"\n",
        "        return 1 / (1 + np.exp(-z))\n",
        "\n",
        "    def fit(self, X, y):\n",
        "        \"\"\"\n",
        "        Fit logistic regression model on training data.\n",
        "\n",
        "        Parameters:\n",
        "        -----------\n",
        "        X : array-like, shape (n_samples, n_features)\n",
        "            The input data.\n",
        "\n",
        "        y : array-like, shape (n_samples,)\n",
        "            The target values.\n",
        "        \"\"\"\n",
        "\n",
        "        num_samples, num_features = X.shape\n",
        "\n",
        "        # Initialize weights and bias\n",
        "        self.weights = np.zeros(num_features)\n",
        "        self.bias = 0\n",
        "\n",
        "        # Keep track of loss for each iteration\n",
        "        self.losses = []\n",
        "\n",
        "        for i in range(self.num_iterations):\n",
        "            # Forward pass\n",
        "            z = np.dot(X, self.weights) + self.bias\n",
        "            y_pred = self.sigmoid(z)\n",
        "\n",
        "            # Compute cost\n",
        "            cost = -np.mean(y*np.log(y_pred) + (1-y)*np.log(1-y_pred))\n",
        "            self.losses.append(cost)\n",
        "\n",
        "            # Backward pass\n",
        "            dz = y_pred - y\n",
        "            dw = np.dot(X.T, dz) / num_samples\n",
        "            db = np.mean(dz)\n",
        "\n",
        "            # Update weights and bias\n",
        "            self.weights -= self.learning_rate * dw\n",
        "            self.bias -= self.learning_rate * db\n",
        "\n",
        "    def predict(self, X):\n",
        "        \"\"\"\n",
        "        Predict the class labels for the input data.\n",
        "\n",
        "        Parameters:\n",
        "        -----------\n",
        "        X : array-like, shape (n_samples, n_features)\n",
        "            The input data.\n",
        "\n",
        "        Returns:\n",
        "        --------\n",
        "        y_pred : array-like, shape (n_samples,)\n",
        "            The predicted class labels.\n",
        "        \"\"\"\n",
        "        z = np.dot(X, self.weights) + self.bias\n",
        "        y_pred = self.sigmoid(z)\n",
        "        return (y_pred > 0.5).astype(int)\n"
      ],
      "metadata": {
        "id": "9Fwa52EvMa11"
      },
      "execution_count": 70,
      "outputs": []
    },
    {
      "cell_type": "markdown",
      "source": [
        "Model Training"
      ],
      "metadata": {
        "id": "WVfMeCdfPkmb"
      }
    },
    {
      "cell_type": "code",
      "source": [
        "# Instantiate a Logistic Regression model\n",
        "model = LogisticRegression()\n",
        "\n",
        "# Train the model using the training data\n",
        "model.fit(X_train, y_train)"
      ],
      "metadata": {
        "id": "T-SUY-BDMESi"
      },
      "execution_count": 71,
      "outputs": []
    },
    {
      "cell_type": "markdown",
      "source": [
        "Model Evaluation"
      ],
      "metadata": {
        "id": "W3E3Vk9sPm0R"
      }
    },
    {
      "cell_type": "code",
      "source": [
        "# Make predictions using testing data\n",
        "y_pred = model.predict(X_test)"
      ],
      "metadata": {
        "id": "YtI5Ch-cLuGy"
      },
      "execution_count": 72,
      "outputs": []
    },
    {
      "cell_type": "code",
      "source": [
        "y_pred"
      ],
      "metadata": {
        "colab": {
          "base_uri": "https://localhost:8080/"
        },
        "id": "0akiWjO9M6Fb",
        "outputId": "89808c42-9a98-4ce9-95ce-1bbb4bc41ec0"
      },
      "execution_count": 73,
      "outputs": [
        {
          "output_type": "execute_result",
          "data": {
            "text/plain": [
              "array([1, 0, 0, 1, 1, 0, 0, 0, 1, 1, 1, 0, 1, 0, 1, 0, 1, 1, 1, 0, 1, 1,\n",
              "       0, 1, 1, 1, 1, 1, 1, 0, 1, 1, 1, 1, 1, 1, 0, 1, 0, 1, 1, 0, 1, 1,\n",
              "       1, 1, 1, 1, 1, 1, 0, 0, 1, 1, 1, 1, 1, 0, 0, 1, 1, 0, 0, 1, 1, 1,\n",
              "       0, 0, 1, 1, 0, 0, 1, 0, 1, 1, 1, 0, 1, 1, 0, 1, 0, 0, 0, 0, 0, 0,\n",
              "       1, 1, 1, 1, 1, 1, 1, 1, 0, 0, 1, 0, 0, 1, 0, 0, 1, 1, 1, 0, 1, 1,\n",
              "       0, 1, 1, 0])"
            ]
          },
          "metadata": {},
          "execution_count": 73
        }
      ]
    },
    {
      "cell_type": "code",
      "source": [
        "# Calculate metrics\n",
        "precision = precision_score(y_test, y_pred) *100\n",
        "recall = recall_score(y_test, y_pred) *100\n",
        "f1 = f1_score(y_test, y_pred) *100\n",
        "accuracy = accuracy_score(y_test, y_pred) *100\n",
        "\n",
        "# Print the results\n",
        "print(f'Precision: {precision:.2f}')\n",
        "print(f'Recall: {recall:.2f}')\n",
        "print(f'F1 Score: {f1:.2f}')\n",
        "print(f'Accuracy: {accuracy:.2f}')"
      ],
      "metadata": {
        "colab": {
          "base_uri": "https://localhost:8080/"
        },
        "id": "I609R1luN8Y0",
        "outputId": "83f74f9e-0dda-4fa9-932e-c43819b03632"
      },
      "execution_count": 76,
      "outputs": [
        {
          "output_type": "stream",
          "name": "stdout",
          "text": [
            "Precision: 98.61\n",
            "Recall: 100.00\n",
            "F1 Score: 99.30\n",
            "Accuracy: 99.12\n"
          ]
        }
      ]
    },
    {
      "cell_type": "code",
      "source": [
        "# Calculate the confusion matrix\n",
        "confusion_matrix = metrics.confusion_matrix(y_test, y_pred)\n",
        "\n",
        "# Convert the confusion matrix into a DataFrame\n",
        "matrix_df = pd.DataFrame(confusion_matrix)\n",
        "\n",
        "# Plot the confusion matrix with a different colormap (e.g., 'viridis')\n",
        "plt.figure(figsize=(6, 4))\n",
        "ax = plt.axes()\n",
        "sns.set(font_scale=1.3)\n",
        "sns.heatmap(matrix_df,\n",
        "            annot=True,\n",
        "            fmt=\"g\",\n",
        "            ax=ax,\n",
        "            cmap=\"viridis\",  # Change the colormap here\n",
        "            cbar=False)\n",
        "ax.set_title(\"Confusion Matrix - Logistic Regression\")\n",
        "ax.set_xlabel(\"Predicted Label\", fontsize=15)\n",
        "ax.set_xticklabels([\"malignant\", \"benign\"])\n",
        "ax.set_ylabel(\"True Label\", fontsize=15)\n",
        "ax.set_yticklabels([\"malignant\", \"benign\"], rotation=0)\n",
        "plt.show()"
      ],
      "metadata": {
        "colab": {
          "base_uri": "https://localhost:8080/",
          "height": 427
        },
        "id": "StRe4tHOLyz5",
        "outputId": "484df2bc-6459-4142-d45d-664e3026b228"
      },
      "execution_count": 77,
      "outputs": [
        {
          "output_type": "display_data",
          "data": {
            "text/plain": [
              "<Figure size 600x400 with 1 Axes>"
            ],
            "image/png": "[encoded data removed]"
          },
          "metadata": {}
        }
      ]
    },
    {
      "cell_type": "markdown",
      "source": [
        "#Conclusion\n",
        "Logistic regression model exhibits outstanding performance on the breast cancer dataset, achieving a precision of 98.61%, a perfect recall of 100.00%, an impressive F1 Score of 99.30%, and an overall accuracy rate of 99.12%. These metrics collectively indicate the model's robust ability to accurately classify malignant and benign tumors, highlighting its reliability in medical diagnosis and decision-making."
      ],
      "metadata": {
        "id": "F7vPaYCuPvEf"
      }
    }
  ]
}